{
 "cells": [
  {
   "attachments": {},
   "cell_type": "markdown",
   "metadata": {},
   "source": [
    "### Emnist Letters CNN"
   ]
  },
  {
   "cell_type": "code",
   "execution_count": 2,
   "metadata": {},
   "outputs": [],
   "source": [
    "# import statements\n",
    "\n",
    "from __future__ import print_function\n",
    "import argparse\n",
    "import torch\n",
    "import torch.nn as nn\n",
    "import torch.nn.functional as F\n",
    "import torch.optim as optim\n",
    "import pandas as pd\n",
    "import numpy as np\n",
    "from torchvision import datasets, transforms\n",
    "from torch.optim.lr_scheduler import StepLR\n",
    "from torch.utils.data import TensorDataset, DataLoader\n"
   ]
  },
  {
   "cell_type": "code",
   "execution_count": 3,
   "metadata": {},
   "outputs": [],
   "source": [
    "# Load in and store the data as a Pandas dataframe\n",
    "\n",
    "filename = \"emnist-letters-train.csv\"\n",
    "data = pd.read_csv(filename)\n",
    "\n",
    "raw_train_data = data.sample(frac=0.9, random_state=1)\n",
    "raw_test_data = data.drop(raw_train_data.index)"
   ]
  },
  {
   "cell_type": "code",
   "execution_count": 24,
   "metadata": {},
   "outputs": [],
   "source": [
    "# Now, we need to format the data correctly. Currently, the first column corresponds to the labels \n",
    "# and the remaining columns correspond to the pixels of the image in sequential order. \n",
    "\n",
    "def preprocess_data(data):\n",
    "    X = data.iloc[:, 1:].values / 255\n",
    "    y = data.iloc[:, 0].values - 1 \n",
    "    return torch.tensor(X, dtype=torch.float32), torch.tensor(y, dtype=torch.long)\n",
    "\n",
    "X_train, y_train = preprocess_data(raw_train_data)\n",
    "X_test, y_test = preprocess_data(raw_test_data)\n",
    "\n",
    "# We will also create a dataloader to make the training process easier. \n",
    "\n",
    "train_data = TensorDataset(X_train, y_train)\n",
    "train_loader = DataLoader(train_data, batch_size=64, shuffle=True)\n",
    "\n",
    "test_data = TensorDataset(X_test, y_test)\n",
    "test_loader = DataLoader(test_data, batch_size=64, shuffle=False)"
   ]
  },
  {
   "cell_type": "code",
   "execution_count": 25,
   "metadata": {},
   "outputs": [],
   "source": [
    "# Let's build out the neural network now. I will use the PyTorch framework to set up a simple CNN. \n",
    "\n",
    "class CharNet(nn.Module):\n",
    "    def __init__(self):\n",
    "        super(CharNet, self).__init__()\n",
    "        self.conv1 = nn.Conv2d(1, 32, kernel_size=3, padding=1)\n",
    "        self.relu1 = nn.ReLU()\n",
    "        self.pool1 = nn.MaxPool2d(2,2)\n",
    "\n",
    "        self.conv2 = nn.Conv2d(32, 64, kernel_size=3, padding=1)\n",
    "        self.relu2 = nn.ReLU()\n",
    "        self.pool2 = nn.MaxPool2d(2,2)\n",
    "\n",
    "        self.fc1 = nn.Linear(7*7*64, 128)\n",
    "        self.relu3 = nn.ReLU()\n",
    "        self.fc2 = nn.Linear(128, 26)\n",
    "\n",
    "    def forward(self, x):\n",
    "        x = self.pool1(self.relu1(self.conv1(x)))\n",
    "        x = self.pool2(self.relu2(self.conv2(x)))\n",
    "\n",
    "        x = x.view(-1, 7*7*64)\n",
    "        x = self.fc2(self.relu3(self.fc1(x)))\n",
    "        probs = F.log_softmax(x, dim=1)\n",
    "\n",
    "        return probs    "
   ]
  },
  {
   "cell_type": "code",
   "execution_count": 31,
   "metadata": {},
   "outputs": [
    {
     "name": "stdout",
     "output_type": "stream",
     "text": [
      "Epoch: 0, Train Loss: 1.2888335960926869\n",
      "Epoch: 1, Train Loss: 0.6090573491670305\n",
      "Epoch: 2, Train Loss: 0.4468435456482671\n",
      "Epoch: 3, Train Loss: 0.372079268563166\n",
      "Epoch: 4, Train Loss: 0.3318261778633818\n",
      "Epoch: 5, Train Loss: 0.30139616050655316\n",
      "Epoch: 6, Train Loss: 0.2809160350321578\n",
      "Epoch: 7, Train Loss: 0.2642690322046475\n",
      "Epoch: 8, Train Loss: 0.24961276958473594\n",
      "Epoch: 9, Train Loss: 0.23696492478144082\n",
      "Epoch: 10, Train Loss: 0.22564292057239121\n",
      "Epoch: 11, Train Loss: 0.21680739559859538\n",
      "Epoch: 12, Train Loss: 0.20834367523033967\n",
      "Epoch: 13, Train Loss: 0.1991484468255499\n",
      "Epoch: 14, Train Loss: 0.19302650821433245\n",
      "Epoch: 15, Train Loss: 0.18631490079866495\n",
      "Epoch: 16, Train Loss: 0.180048742462054\n",
      "Epoch: 17, Train Loss: 0.17341251395720306\n",
      "Epoch: 18, Train Loss: 0.16781994960516142\n",
      "Epoch: 19, Train Loss: 0.16345687049349325\n"
     ]
    }
   ],
   "source": [
    "# With the model architecture in place, we can begin training!\n",
    "\n",
    "classifier = CharNet()\n",
    "loss_function = nn.CrossEntropyLoss()\n",
    "optimizer = optim.Adam(classifier.parameters(), lr=0.0001)\n",
    "\n",
    "classifier.train()\n",
    "epochs = 20\n",
    "\n",
    "for epoch in range(epochs):\n",
    "    train_loss = 0\n",
    "    for batch, (X, y) in enumerate(train_loader):\n",
    "        X = X.view(-1, 1, 28, 28)\n",
    "        optimizer.zero_grad()\n",
    "        output = classifier(X)\n",
    "        loss = loss_function(output, y)\n",
    "        loss.backward()\n",
    "        optimizer.step()\n",
    "        train_loss += loss.item()\n",
    "\n",
    "    train_loss /= len(train_loader)\n",
    "    print(f\"Epoch: {epoch}, Train Loss: {train_loss}\")\n",
    "\n",
    "torch.save(classifier.state_dict(), 'model_weights2.pth')\n",
    "\n",
    "# model_weights: 91.64 test accuracy\n",
    "# model_weights2: "
   ]
  },
  {
   "cell_type": "code",
   "execution_count": 32,
   "metadata": {},
   "outputs": [
    {
     "name": "stdout",
     "output_type": "stream",
     "text": [
      "Test Loss: 0.2511, Test Accuracy: 92.08%\n"
     ]
    }
   ],
   "source": [
    "# Lastly, we can set up an evaluation loop to test model performance.\n",
    "\n",
    "classifier.eval()\n",
    "test_loss = 0\n",
    "correct = 0\n",
    "\n",
    "with torch.no_grad():\n",
    "    for data, target in test_loader:\n",
    "        data = data.view(-1, 1, 28, 28)\n",
    "        output = classifier(data)\n",
    "        test_loss += loss_function(output, target).item()\n",
    "        pred = output.argmax(dim=1, keepdim=True)\n",
    "        correct += pred.eq(target.view_as(pred)).sum().item()\n",
    "\n",
    "test_loss /= len(test_loader)\n",
    "accuracy = 100.0 * correct / len(test_loader.dataset)\n",
    "print(\"Test Loss: {:.4f}, Test Accuracy: {:.2f}%\".format(test_loss, accuracy))\n",
    "\n",
    "# model_weights: 91.64 test accuracy\n",
    "# model_weights2: "
   ]
  },
  {
   "cell_type": "code",
   "execution_count": 42,
   "metadata": {},
   "outputs": [],
   "source": [
    "# Running inference on the test set with the saved model weights. \n",
    "# *** Remember to add one back to the labels in order to get the correct final outputs ***\n",
    "\n",
    "test_filename = \"features-test.csv\"\n",
    "test_data = pd.read_csv(test_filename)\n",
    "\n",
    "def parse_test_data(data):\n",
    "    X = test_data.iloc[:, 1:].values / 255 \n",
    "    ids = test_data.iloc[:, 0].values\n",
    "    return torch.tensor(X, dtype=torch.float32), ids\n",
    "\n",
    "test_features, sample_ids = parse_test_data(test_data)\n",
    "\n",
    "# # Load the trained model\n",
    "# model = CharNet()\n",
    "# model.load_state_dict(torch.load(\"model_weights.pth\"))\n",
    "classifier.eval()\n",
    "\n",
    "# Run inference on the test set\n",
    "with torch.no_grad():\n",
    "    test_features = test_features.view(-1, 1, 28, 28)\n",
    "    outputs = classifier(test_features)\n",
    "    _, predicted_labels = torch.max(outputs, 1)\n",
    "    predicted_labels += 1  \n",
    "\n",
    "# Store the results\n",
    "results = pd.DataFrame({\"sample-id\": sample_ids, \"letter_idx\": predicted_labels.numpy()})\n",
    "results.to_csv(\"submission.csv\", index=False)\n",
    "\n"
   ]
  }
 ],
 "metadata": {
  "kernelspec": {
   "display_name": "Python 3",
   "language": "python",
   "name": "python3"
  },
  "language_info": {
   "codemirror_mode": {
    "name": "ipython",
    "version": 3
   },
   "file_extension": ".py",
   "mimetype": "text/x-python",
   "name": "python",
   "nbconvert_exporter": "python",
   "pygments_lexer": "ipython3",
   "version": "3.9.16"
  },
  "orig_nbformat": 4
 },
 "nbformat": 4,
 "nbformat_minor": 2
}
